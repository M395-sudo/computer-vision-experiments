{
 "cells": [
  {
   "cell_type": "markdown",
   "metadata": {},
   "source": [
    "# Equidistant Projection with the Help of the Pinhole Camera Model\n",
    "\n",
    "In this code, we try to make a photograph from a 3D cube. This time, we do not use the perspective projection model but the equidistant projection model. At the end, the cube should be deformed by the equidistant projection model. You should see alot of curved edges...\n",
    "\n",
    "Please insert your code where it is asked for (\"insert your code here\").\n",
    "\n",
    "## Building up the 3D Environment and Defining Some Functions"
   ]
  },
  {
   "cell_type": "code",
   "execution_count": null,
   "metadata": {},
   "outputs": [],
   "source": [
    "import numpy as np\n",
    "import matplotlib.pyplot as plt\n",
    "\n",
    "\n",
    "# Our 3D world contains a 3D cube\n",
    "xx = np.linspace(-1, 1, 10)\n",
    "yy = np.linspace(-1, 1, 10)\n",
    "zz = np.linspace(-1, 1, 10)\n",
    "x, y, z = np.meshgrid(xx, yy, zz)\n",
    "\n",
    "num_points = x.shape[0] * x.shape[1] * x.shape[2]\n",
    "print(\"number of points:\", num_points)\n",
    "\n",
    "x = x.reshape((1, num_points))\n",
    "y = y.reshape((1, num_points))\n",
    "z = z.reshape((1, num_points))\n",
    "w = np.ones_like(x, dtype=np.float)\n",
    "\n",
    "X_wcs = np.concatenate((x, y, z, w), axis=0)\n",
    "\n",
    "#activate intermediate result validation:\n",
    "validation = True # deactivate with False\n",
    "debug = False # False to suppress some annoying prints...\n",
    "\n",
    "# simply ignore this method:\n",
    "def validate(array, hash_val, error_msg):\n",
    "    if validation == False:\n",
    "        return # do not validate\n",
    "    if type(array) != np.ndarray:\n",
    "        s = hash(array)\n",
    "    else:\n",
    "        s = 0\n",
    "        for i in range(array.shape[0]):\n",
    "            for j in range(array.shape[1]):\n",
    "                s += hash(array[i, j] * 7*(i+1) + 13*(j+1))\n",
    "    \n",
    "    if debug == True:\n",
    "        print(\"hash was:\", s)\n",
    "    assert s == hash_val, error_msg\n",
    "            "
   ]
  },
  {
   "cell_type": "markdown",
   "metadata": {},
   "source": [
    "## Extrinsic Parameters\n",
    "Let's define the position $C$ of the camera."
   ]
  },
  {
   "cell_type": "code",
   "execution_count": null,
   "metadata": {},
   "outputs": [],
   "source": [
    "C = np.array([[0.5, -2, 1.5]])\n",
    "C = C.T\n",
    "print(C)\n",
    "assert(C.shape == (3,1))"
   ]
  },
  {
   "cell_type": "markdown",
   "metadata": {},
   "source": [
    "Now it's time to build up the rotation matrix s.th. the camera looks into the direction of the cube...  \n",
    "For the sake of simplicity, please rotate only about the x axis around 90 degrees.  \n",
    "Hint: Numpy's trigonometric functions take angles in radians not in degrees."
   ]
  },
  {
   "cell_type": "code",
   "execution_count": null,
   "metadata": {},
   "outputs": [],
   "source": [
    "###### rotate around x axis about 90 degrees\n",
    "###### provide the angle in radians:\n",
    "\n",
    "alpha_in_rad = 90 * np.pi / 180.0 # insert your code here\n",
    "\n",
    "validate(alpha_in_rad, 1316166719824867329, \"alpha was not correctly translated to radians\")\n",
    "\n",
    "# calculate the cosine and sine value of alpha\n",
    "c = np.cos(alpha_in_rad)\n",
    "s = np.sin(alpha_in_rad)\n",
    "\n",
    "###### now build up the inhomogeneous 3D rotation matrix around the z axis with the help of the veriables c and s.\n",
    "# insert your code here:\n",
    "\n",
    "R = np.array([\n",
    "    [1, 0,  0],\n",
    "    [0, c, -s],\n",
    "    [0, s,  c]\n",
    "], dtype=np.float)\n",
    "\n",
    "validate(R, 248, \"The rotation matrix is not correct.\")"
   ]
  },
  {
   "cell_type": "markdown",
   "metadata": {},
   "source": [
    "The homography that converts a point from world coordinate system to camera coordinate system is defined as:  \n",
    "$H = \\begin{pmatrix}\n",
    "R & -RC \\\\\n",
    "\\it{\\bf{0}}^T & 1\n",
    "\\end{pmatrix}$"
   ]
  },
  {
   "cell_type": "code",
   "execution_count": null,
   "metadata": {},
   "outputs": [],
   "source": [
    "# Please build up the upper three rows [R -RC] with the help of np.concatenate(). Which concatenation axis is the right?\n",
    "RC = R.dot(C)\n",
    "H_top = np.concatenate((R, -RC), axis=1) # insert your code here\n",
    "validate(H_top.shape, 3713083796997400956, \"The shape of your H_top is wrong! The shape is: \" + str(H_top.shape))\n",
    "validate(H_top[:,1:], 1152921504606847276, \"This is not the right translation part.\")\n",
    "validate(H_top, 1152921504606847439, \"Hmm, seems to be not the desired H_top...\")\n",
    "\n",
    "# Now build up the lower row of. Which shape has lower row? Hint: How many colums has R?\n",
    "\n",
    "H_bottom = np.array([[0, 0, 0, 1]], dtype=np.float) # insert your code here\n",
    "\n",
    "\n",
    "\n",
    "validate(H_bottom.shape, 3713081631940905806, \"The shape of your H_bottom is wrong! The shape is: \" + str(H_bottom.shape))\n",
    "validate(H_bottom, 137, \"Hmm, seems to be not the desired H_bottom...\")\n",
    "\n",
    "# Now concatenate H_top and H_bottom\n",
    "H = np.concatenate((H_top, H_bottom), axis=0) # insert your code here\n",
    "\n",
    "# Convert X_wcs to X_ccs\n",
    "X_ccs = H.dot(X_wcs) # insert your code here\n",
    "validate(X_ccs, 2767011611056508334380, \"This are not the right homogeneous coordinates for X in CCS.\")\n",
    "\n",
    "# make it inhomogeneous\n",
    "X_ccs_inhom = X_ccs[:3,:] / X_ccs[3,:] # insert your code here\n",
    "validate(X_ccs_inhom, 2767011611056501799880, \"The convertion to inhomogeneous space is wrong.\")\n",
    "print(X_ccs_inhom.shape)"
   ]
  },
  {
   "cell_type": "markdown",
   "metadata": {},
   "source": [
    "## Intrinsic Parameters"
   ]
  },
  {
   "cell_type": "code",
   "execution_count": null,
   "metadata": {},
   "outputs": [],
   "source": [
    "w = 1024 # image width\n",
    "h = w # image height is image width\n",
    "\n",
    "c_x = (w + 1) / 2.0 # insert your code here\n",
    "c_y = (h + 1) / 2.0 # insert your code here\n",
    "validate(c_x + 10, 1152921504606847498, \"This is not the desired c_x\")\n",
    "validate(c_y + 20, 1152921504606847508, \"This is not the desired c_y\")\n",
    "\n",
    "##### let's directly define the focal length in pixel space:\n",
    "\n",
    "f = w / np.pi"
   ]
  },
  {
   "cell_type": "markdown",
   "metadata": {},
   "source": [
    "Let $X_\\text{ccs}'$ be the orthogonal projection of $X_\\text{ccs}$ on the cameras x-y-plane.  \n",
    "Then, $X_\\text{ccs}'$ is the same as $X_\\text{ccs}$ but has $z=0$ for all points.  \n",
    "The azimuth $\\varphi$ of $X_\\text{ccs}$ can be computed by measuring the angle between $X_\\text{ccs}'$ and the x-axis of the camera."
   ]
  },
  {
   "cell_type": "code",
   "execution_count": null,
   "metadata": {},
   "outputs": [],
   "source": [
    "x_axis = np.array([[1, 0, 0]], dtype=np.float).T\n",
    "X_ccs_proj = np.copy(X_ccs_inhom)\n",
    "X_ccs_proj[2,:] = 0\n",
    "all_phis = np.zeros((1, num_points))\n",
    "for i in range(num_points):\n",
    "    current_point = X_ccs_proj[:,i] # insert your code here\n",
    "    validate(current_point.shape, 3430021387564, \"Please extract a column vector from X_ccs_proj\")\n",
    "    euclidean_length = np.linalg.norm(current_point)\n",
    "    cos_val = (current_point.T).dot(x_axis) / euclidean_length\n",
    "    phi = np.arccos(cos_val)\n",
    "    if current_point[1] < 0:\n",
    "        phi = 2 * np.pi - phi\n",
    "    all_phis[0, i] = phi\n",
    "\n",
    "# unit vector u_r (conf. Chapt 4, slide 24)\n",
    "u_r_top = np.cos(all_phis) # insert your code here\n",
    "validate(u_r_top, 1164609820778619375238, \"This is not the desired top (row) for u_r. Have you considered all phi values?\")\n",
    "u_r_bottom = np.sin(all_phis) # insert your code here\n",
    "validate((u_r_bottom.T*7+15), 1126625615689891267539, \"This is not the desired bottom (row) for u_r. Have you considered all phi values?\")\n",
    "u_r = np.concatenate((u_r_top, u_r_bottom), axis=0)\n",
    "\n"
   ]
  },
  {
   "cell_type": "markdown",
   "metadata": {},
   "source": [
    "The elevation $\\theta$ can be calculated by taking the angle between the vector to $X$ and the camera's z axis."
   ]
  },
  {
   "cell_type": "code",
   "execution_count": null,
   "metadata": {},
   "outputs": [],
   "source": [
    "z_axis = np.array([[0, 0, 1]], dtype=np.float).T\n",
    "all_thetas = np.zeros((1, num_points))\n",
    "for i in range(num_points):\n",
    "    current_point = X_ccs_inhom[:,i] # insert your code here\n",
    "    validate(current_point.shape, 3430021387564, \"Please extract a column vector from X_ccs_inhom\")\n",
    "    euclidean_length = np.linalg.norm(current_point)\n",
    "    cos_val = (current_point.T).dot(z_axis) / euclidean_length\n",
    "    theta = np.arccos(cos_val)\n",
    "    all_thetas[0, i] = theta"
   ]
  },
  {
   "cell_type": "markdown",
   "metadata": {},
   "source": [
    "## Projection\n",
    "Now, let's do the projection with the help of the equidistant projection function: $\\rho(\\theta) = f \\cdot \\theta$"
   ]
  },
  {
   "cell_type": "code",
   "execution_count": null,
   "metadata": {},
   "outputs": [],
   "source": [
    "f_norm = 1 # focal length of normalized ICS is always 1\n",
    "all_rhos = f_norm * all_thetas # insert you code here\n",
    "validate(all_rhos, 1139176930484582078855, \"This is not the correct result for rho.\")\n",
    "X_norm_inhom = u_r * all_rhos\n",
    "X_norm = np.concatenate((X_norm_inhom, np.ones((1, num_points))), axis=0)\n",
    "\n",
    "# insert your code here:\n",
    "K = np.array([\n",
    "    [f, 0, c_x],\n",
    "    [0, f, c_y],\n",
    "    [0, 0,   1]\n",
    "], dtype=float)\n",
    "validate(K, 3310712090126206405, \"Apparently K was not built up properly. Have you used the right focal length?\")\n",
    "\n",
    "X_img = K.dot(X_norm) # insert your code here\n",
    "validate(X_img, 2381745544193333413326, \"X_img is wrong. Maybe you're not in homogeneous space?\")\n",
    "X_img_inhom = X_img[:2, :] / X_img[2]  # insert your code here\n",
    "validate(X_img_inhom, 2381745544193326885826, \"That are not the right inhomogeneous coordinates :/...\")\n",
    "\n",
    "# plotting NOT important for examination!\n",
    "fig, ax = plt.subplots()\n",
    "ax.set_title(\"My beautiful blue box\")\n",
    "ax.set_xlabel(\"x axis\")\n",
    "ax.set_ylabel(\"y axis\")\n",
    "plt.plot(X_img_inhom[0,:], X_img_inhom[1,:], 'b*')\n",
    "ax.invert_yaxis()\n",
    "ax.set_facecolor((0, 0, 0))\n",
    "plt.xlim(left=0, right=w)\n",
    "plt.ylim(top=0, bottom=h)\n",
    "ax.set_aspect('equal', adjustable='box')\n",
    "circle1 = plt.Circle((c_x, c_y), w/2, color='w')\n",
    "ax.add_artist(circle1)\n",
    "\n",
    "\n"
   ]
  }
 ],
 "metadata": {
  "kernelspec": {
   "display_name": "Python 3",
   "language": "python",
   "name": "python3"
  },
  "language_info": {
   "codemirror_mode": {
    "name": "ipython",
    "version": 3
   },
   "file_extension": ".py",
   "mimetype": "text/x-python",
   "name": "python",
   "nbconvert_exporter": "python",
   "pygments_lexer": "ipython3",
   "version": "3.7.6"
  }
 },
 "nbformat": 4,
 "nbformat_minor": 4
}
